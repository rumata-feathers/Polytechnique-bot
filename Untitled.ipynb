{
 "cells": [
  {
   "cell_type": "markdown",
   "id": "7d126a40-1d1f-4f8d-ae83-8716597d8b36",
   "metadata": {},
   "source": [
    "## Some requirements"
   ]
  },
  {
   "cell_type": "code",
   "execution_count": 1,
   "id": "aaa0f9b1-e141-4517-8ea6-30cf3f4c0e82",
   "metadata": {},
   "outputs": [
    {
     "name": "stdout",
     "output_type": "stream",
     "text": [
      "Requirement already satisfied: pip in /opt/homebrew/lib/python3.11/site-packages (24.0)\n",
      "Note: you may need to restart the kernel to use updated packages.\n"
     ]
    }
   ],
   "source": [
    "pip install --upgrade pip"
   ]
  },
  {
   "cell_type": "code",
   "execution_count": 2,
   "id": "be256e18-7e6b-4932-affc-3973c94af1a1",
   "metadata": {
    "scrolled": true
   },
   "outputs": [
    {
     "name": "stdout",
     "output_type": "stream",
     "text": [
      "Requirement already satisfied: pytelegrambotapi in /opt/homebrew/lib/python3.11/site-packages (4.16.1)\n",
      "Requirement already satisfied: requests in /opt/homebrew/lib/python3.11/site-packages (from pytelegrambotapi) (2.31.0)\n",
      "Requirement already satisfied: charset-normalizer<4,>=2 in /opt/homebrew/lib/python3.11/site-packages (from requests->pytelegrambotapi) (2.0.12)\n",
      "Requirement already satisfied: idna<4,>=2.5 in /opt/homebrew/lib/python3.11/site-packages (from requests->pytelegrambotapi) (3.4)\n",
      "Requirement already satisfied: urllib3<3,>=1.21.1 in /opt/homebrew/lib/python3.11/site-packages (from requests->pytelegrambotapi) (1.26.15)\n",
      "Requirement already satisfied: certifi>=2017.4.17 in /opt/homebrew/lib/python3.11/site-packages (from requests->pytelegrambotapi) (2022.12.7)\n",
      "Note: you may need to restart the kernel to use updated packages.\n"
     ]
    }
   ],
   "source": [
    "pip install pytelegrambotapi"
   ]
  },
  {
   "cell_type": "code",
   "execution_count": 3,
   "id": "e2880fab-9c44-4833-b6a3-c810164b1063",
   "metadata": {
    "scrolled": true
   },
   "outputs": [
    {
     "name": "stdout",
     "output_type": "stream",
     "text": [
      "Requirement already satisfied: google-api-python-client in /opt/homebrew/lib/python3.11/site-packages (2.125.0)\n",
      "Requirement already satisfied: google-auth-httplib2 in /opt/homebrew/lib/python3.11/site-packages (0.2.0)\n",
      "Requirement already satisfied: google-auth-oauthlib in /opt/homebrew/lib/python3.11/site-packages (1.0.0)\n",
      "Requirement already satisfied: httplib2<1.dev0,>=0.19.0 in /opt/homebrew/lib/python3.11/site-packages (from google-api-python-client) (0.22.0)\n",
      "Requirement already satisfied: google-auth!=2.24.0,!=2.25.0,<3.0.0.dev0,>=1.32.0 in /opt/homebrew/lib/python3.11/site-packages (from google-api-python-client) (2.19.1)\n",
      "Requirement already satisfied: google-api-core!=2.0.*,!=2.1.*,!=2.2.*,!=2.3.0,<3.0.0.dev0,>=1.31.5 in /opt/homebrew/lib/python3.11/site-packages (from google-api-python-client) (2.18.0)\n",
      "Requirement already satisfied: uritemplate<5,>=3.0.1 in /opt/homebrew/lib/python3.11/site-packages (from google-api-python-client) (4.1.1)\n",
      "Requirement already satisfied: requests-oauthlib>=0.7.0 in /opt/homebrew/lib/python3.11/site-packages (from google-auth-oauthlib) (1.3.1)\n",
      "Requirement already satisfied: googleapis-common-protos<2.0.dev0,>=1.56.2 in /opt/homebrew/lib/python3.11/site-packages (from google-api-core!=2.0.*,!=2.1.*,!=2.2.*,!=2.3.0,<3.0.0.dev0,>=1.31.5->google-api-python-client) (1.63.0)\n",
      "Requirement already satisfied: protobuf!=3.20.0,!=3.20.1,!=4.21.0,!=4.21.1,!=4.21.2,!=4.21.3,!=4.21.4,!=4.21.5,<5.0.0.dev0,>=3.19.5 in /opt/homebrew/lib/python3.11/site-packages (from google-api-core!=2.0.*,!=2.1.*,!=2.2.*,!=2.3.0,<3.0.0.dev0,>=1.31.5->google-api-python-client) (4.25.2)\n",
      "Requirement already satisfied: proto-plus<2.0.0dev,>=1.22.3 in /opt/homebrew/lib/python3.11/site-packages (from google-api-core!=2.0.*,!=2.1.*,!=2.2.*,!=2.3.0,<3.0.0.dev0,>=1.31.5->google-api-python-client) (1.23.0)\n",
      "Requirement already satisfied: requests<3.0.0.dev0,>=2.18.0 in /opt/homebrew/lib/python3.11/site-packages (from google-api-core!=2.0.*,!=2.1.*,!=2.2.*,!=2.3.0,<3.0.0.dev0,>=1.31.5->google-api-python-client) (2.31.0)\n",
      "Requirement already satisfied: cachetools<6.0,>=2.0.0 in /opt/homebrew/lib/python3.11/site-packages (from google-auth!=2.24.0,!=2.25.0,<3.0.0.dev0,>=1.32.0->google-api-python-client) (5.3.1)\n",
      "Requirement already satisfied: pyasn1-modules>=0.2.1 in /opt/homebrew/lib/python3.11/site-packages (from google-auth!=2.24.0,!=2.25.0,<3.0.0.dev0,>=1.32.0->google-api-python-client) (0.3.0)\n",
      "Requirement already satisfied: rsa<5,>=3.1.4 in /opt/homebrew/lib/python3.11/site-packages (from google-auth!=2.24.0,!=2.25.0,<3.0.0.dev0,>=1.32.0->google-api-python-client) (4.9)\n",
      "Requirement already satisfied: six>=1.9.0 in /opt/homebrew/lib/python3.11/site-packages (from google-auth!=2.24.0,!=2.25.0,<3.0.0.dev0,>=1.32.0->google-api-python-client) (1.16.0)\n",
      "Requirement already satisfied: urllib3<2.0 in /opt/homebrew/lib/python3.11/site-packages (from google-auth!=2.24.0,!=2.25.0,<3.0.0.dev0,>=1.32.0->google-api-python-client) (1.26.15)\n",
      "Requirement already satisfied: pyparsing!=3.0.0,!=3.0.1,!=3.0.2,!=3.0.3,<4,>=2.4.2 in /opt/homebrew/lib/python3.11/site-packages (from httplib2<1.dev0,>=0.19.0->google-api-python-client) (3.1.1)\n",
      "Requirement already satisfied: oauthlib>=3.0.0 in /opt/homebrew/lib/python3.11/site-packages (from requests-oauthlib>=0.7.0->google-auth-oauthlib) (3.2.2)\n",
      "Requirement already satisfied: pyasn1<0.6.0,>=0.4.6 in /opt/homebrew/lib/python3.11/site-packages (from pyasn1-modules>=0.2.1->google-auth!=2.24.0,!=2.25.0,<3.0.0.dev0,>=1.32.0->google-api-python-client) (0.5.0)\n",
      "Requirement already satisfied: charset-normalizer<4,>=2 in /opt/homebrew/lib/python3.11/site-packages (from requests<3.0.0.dev0,>=2.18.0->google-api-core!=2.0.*,!=2.1.*,!=2.2.*,!=2.3.0,<3.0.0.dev0,>=1.31.5->google-api-python-client) (2.0.12)\n",
      "Requirement already satisfied: idna<4,>=2.5 in /opt/homebrew/lib/python3.11/site-packages (from requests<3.0.0.dev0,>=2.18.0->google-api-core!=2.0.*,!=2.1.*,!=2.2.*,!=2.3.0,<3.0.0.dev0,>=1.31.5->google-api-python-client) (3.4)\n",
      "Requirement already satisfied: certifi>=2017.4.17 in /opt/homebrew/lib/python3.11/site-packages (from requests<3.0.0.dev0,>=2.18.0->google-api-core!=2.0.*,!=2.1.*,!=2.2.*,!=2.3.0,<3.0.0.dev0,>=1.31.5->google-api-python-client) (2022.12.7)\n",
      "Note: you may need to restart the kernel to use updated packages.\n"
     ]
    }
   ],
   "source": [
    "pip install google-api-python-client google-auth-httplib2 google-auth-oauthlib"
   ]
  },
  {
   "cell_type": "code",
   "execution_count": 4,
   "id": "1cc1adb3-c247-4613-8452-a765db6f2f0f",
   "metadata": {
    "scrolled": true
   },
   "outputs": [
    {
     "name": "stdout",
     "output_type": "stream",
     "text": [
      "Requirement already satisfied: gspread in /opt/homebrew/lib/python3.11/site-packages (6.1.0)\n",
      "Requirement already satisfied: oauth2client in /opt/homebrew/lib/python3.11/site-packages (4.1.3)\n",
      "Requirement already satisfied: google-auth>=1.12.0 in /opt/homebrew/lib/python3.11/site-packages (from gspread) (2.19.1)\n",
      "Requirement already satisfied: google-auth-oauthlib>=0.4.1 in /opt/homebrew/lib/python3.11/site-packages (from gspread) (1.0.0)\n",
      "Requirement already satisfied: StrEnum==0.4.15 in /opt/homebrew/lib/python3.11/site-packages (from gspread) (0.4.15)\n",
      "Requirement already satisfied: httplib2>=0.9.1 in /opt/homebrew/lib/python3.11/site-packages (from oauth2client) (0.22.0)\n",
      "Requirement already satisfied: pyasn1>=0.1.7 in /opt/homebrew/lib/python3.11/site-packages (from oauth2client) (0.5.0)\n",
      "Requirement already satisfied: pyasn1-modules>=0.0.5 in /opt/homebrew/lib/python3.11/site-packages (from oauth2client) (0.3.0)\n",
      "Requirement already satisfied: rsa>=3.1.4 in /opt/homebrew/lib/python3.11/site-packages (from oauth2client) (4.9)\n",
      "Requirement already satisfied: six>=1.6.1 in /opt/homebrew/lib/python3.11/site-packages (from oauth2client) (1.16.0)\n",
      "Requirement already satisfied: cachetools<6.0,>=2.0.0 in /opt/homebrew/lib/python3.11/site-packages (from google-auth>=1.12.0->gspread) (5.3.1)\n",
      "Requirement already satisfied: urllib3<2.0 in /opt/homebrew/lib/python3.11/site-packages (from google-auth>=1.12.0->gspread) (1.26.15)\n",
      "Requirement already satisfied: requests-oauthlib>=0.7.0 in /opt/homebrew/lib/python3.11/site-packages (from google-auth-oauthlib>=0.4.1->gspread) (1.3.1)\n",
      "Requirement already satisfied: pyparsing!=3.0.0,!=3.0.1,!=3.0.2,!=3.0.3,<4,>=2.4.2 in /opt/homebrew/lib/python3.11/site-packages (from httplib2>=0.9.1->oauth2client) (3.1.1)\n",
      "Requirement already satisfied: oauthlib>=3.0.0 in /opt/homebrew/lib/python3.11/site-packages (from requests-oauthlib>=0.7.0->google-auth-oauthlib>=0.4.1->gspread) (3.2.2)\n",
      "Requirement already satisfied: requests>=2.0.0 in /opt/homebrew/lib/python3.11/site-packages (from requests-oauthlib>=0.7.0->google-auth-oauthlib>=0.4.1->gspread) (2.31.0)\n",
      "Requirement already satisfied: charset-normalizer<4,>=2 in /opt/homebrew/lib/python3.11/site-packages (from requests>=2.0.0->requests-oauthlib>=0.7.0->google-auth-oauthlib>=0.4.1->gspread) (2.0.12)\n",
      "Requirement already satisfied: idna<4,>=2.5 in /opt/homebrew/lib/python3.11/site-packages (from requests>=2.0.0->requests-oauthlib>=0.7.0->google-auth-oauthlib>=0.4.1->gspread) (3.4)\n",
      "Requirement already satisfied: certifi>=2017.4.17 in /opt/homebrew/lib/python3.11/site-packages (from requests>=2.0.0->requests-oauthlib>=0.7.0->google-auth-oauthlib>=0.4.1->gspread) (2022.12.7)\n",
      "Note: you may need to restart the kernel to use updated packages.\n"
     ]
    }
   ],
   "source": [
    "pip install gspread oauth2client"
   ]
  },
  {
   "cell_type": "markdown",
   "id": "ed0eabf1-02b8-4cc8-b26d-22cb088b5192",
   "metadata": {},
   "source": [
    "## Import all the libraries and define tokens. Needed: token for bot (possibly do not change), google sheets API ( may change )"
   ]
  },
  {
   "cell_type": "code",
   "execution_count": 5,
   "id": "e541b82c-06bb-4acb-a538-3627b1e11259",
   "metadata": {},
   "outputs": [],
   "source": [
    "import telebot, os.path\n",
    "\n",
    "from google.auth.transport.requests import Request\n",
    "from google.oauth2.credentials import Credentials\n",
    "from google_auth_oauthlib.flow import InstalledAppFlow\n",
    "from googleapiclient.discovery import build\n",
    "from googleapiclient.errors import HttpError\n",
    "\n",
    "import gspread\n",
    "from oauth2client.service_account import ServiceAccountCredentials\n",
    "import pprint\n",
    "import pandas as pd\n",
    "\n",
    "from telebot import types\n",
    "# add credentials to the account\n",
    "gc = gspread.service_account(filename='lore-420220.json')\n",
    "\n",
    "# add bot\n",
    "bot = telebot.TeleBot('7107007087:AAFD1k810eoghs-15fmUiHA-Qbzk81th9CQ')\n",
    "sheet = gc.open(\"LORE\")\n",
    "\n",
    "# get the scores sheet of the Spreadsheet\n",
    "score_sheet = sheet.worksheet('scores')\n",
    "promt_sheet = sheet.worksheet('promts')"
   ]
  },
  {
   "cell_type": "code",
   "execution_count": 6,
   "id": "9c331ec8-7632-44b0-9eaa-a27dfd267b99",
   "metadata": {},
   "outputs": [
    {
     "name": "stdout",
     "output_type": "stream",
     "text": [
      "('Greeting', {'promts': [\"Hello! I'm bot of L'ore somthing I'm here to help, contact me to change this prompt\"], 'buttons': ['👋 Say hi']})\n",
      "('Name', {'promts': [\"Let's find out what is your name. What is it shorty?\"], 'buttons': [], 'response': ['Great! I will try not to forget it ']})\n",
      "('Describe', {'promts': [\"I'm the bot i support the best l;ore in the world. I like blacking out and do sexual harassments. But fentanyl in me does not allow me do any of it ( or will i), but take orders and count scores. \"], 'buttons': []})\n",
      "('Idle', {'promts': ['Is there anything i can help you with?'], 'buttons': ['Place an order', 'Count my score pls pls pls']})\n"
     ]
    }
   ],
   "source": [
    "def extract_promts(sheet):\n",
    "    def make_dict(arrays):\n",
    "        dict = {array[0] : array[1:] for array in arrays}\n",
    "        for key in dict.keys():\n",
    "            if key == 'inline buttons':\n",
    "                # all cell are in format text: ..., call_back = ...\n",
    "                # that are neccessary for the buttons\n",
    "                array = []\n",
    "                for button in dict[key]:\n",
    "                    if button != '':\n",
    "                        array.append({text.split(':')[0] : text.split(':')[1] for text in button.split('; ')})\n",
    "\n",
    "                dict[key] = array\n",
    "        return dict\n",
    "    \n",
    "    data = sheet.get_all_values()\n",
    "    filtered_data = [[row[0]] + [cell for cell in row[1:] if cell != ''] for row in data]\n",
    "    promts = {}\n",
    "    key = None\n",
    "    for row_num in range(len(filtered_data)):\n",
    "        row = filtered_data[row_num]\n",
    "        # if empty ->add to previous key\n",
    "        if row[0] != '':\n",
    "            key = row[0]\n",
    "            promts[key] = []\n",
    "        promts[key] += [row[1:]]\n",
    "    return {key : make_dict(promts[key]) for key in promts.keys()}\n",
    "\n",
    "\n",
    "promts = extract_promts(promt_sheet)\n",
    "for item in promts.items():\n",
    "    print(item)"
   ]
  },
  {
   "cell_type": "markdown",
   "id": "b1f5d195-14a8-4779-b730-77aa1d4921f3",
   "metadata": {},
   "source": [
    "## Hadle the bot behaviour"
   ]
  },
  {
   "cell_type": "code",
   "execution_count": 11,
   "id": "d13fb7c9-26cb-4124-ac98-fa49108c807b",
   "metadata": {},
   "outputs": [],
   "source": [
    "def send_promts(message, dict, markup=None):\n",
    "    if dict['buttons'] != [] and markup is None:\n",
    "        markup = types.ReplyKeyboardMarkup(resize_keyboard=True, one_time_keyboard=True)\n",
    "        for btn in dict['buttons']:\n",
    "            markup.add(types.KeyboardButton(text=btn))\n",
    "    for promt in dict['promts']:\n",
    "            bot.send_message(message.from_user.id, promt, reply_markup = markup)\n",
    "    \n",
    "@bot.message_handler(commands=['start'])\n",
    "def start(message):\n",
    "    greetings(message)\n",
    "\n",
    "@bot.message_handler(commands=['text'])\n",
    "def greetings(message):\n",
    "    if message.text == promts['Greeting']['buttons'][0]:\n",
    "        send_promts(message, promts['Name'])\n",
    "        bot.register_next_step_handler(message, get_name)\n",
    "        return\n",
    "    send_promts(message, promts['Greeting'])\n",
    "    bot.send_message(message.from_user.id, 'biba')\n",
    "    bot.register_next_step_handler(message, greetings)\n",
    "\n",
    "\n",
    "# TODO: make proper handler for names\n",
    "@bot.message_handler(commands=['text'])\n",
    "def get_name(message):\n",
    "    # handle only one - word answers\n",
    "    if len(message.text.split(' ')) < 2:\n",
    "        bot.send_message(message.from_user.id, 'Please write your full name')\n",
    "        bot.register_next_step_handler(message, get_name)\n",
    "    else:\n",
    "        name, surname = tuple(message.text.split())\n",
    "        score_sheet.append_row([name, surname, 0])\n",
    "        bot.send_message(message.from_user.id, promts['Name']['response'][0])\n",
    "        describe(message)\n",
    "\n",
    "@bot.message_handler(commands=['text'])\n",
    "def describe(message):\n",
    "    send_promts(message, promts['Describe'])\n",
    "    idle(message)\n",
    "\n",
    "@bot.message_handler(commands=['text'])\n",
    "def idle(message):\n",
    "    markup = types.ReplyKeyboardMarkup(resize_keyboard=True)\n",
    "    markup.add(types.KeyboardButton(promts['Idle']['buttons'][0], web_app=types.WebAppInfo(url='https://google.com')))\n",
    "    markup.add(types.KeyboardButton(promts['Idle']['buttons'][1]))\n",
    "    send_promts(message, promts['Idle'], markup)"
   ]
  },
  {
   "cell_type": "code",
   "execution_count": 12,
   "id": "7a2ad626-35cf-4914-82dd-7265d8a769c4",
   "metadata": {},
   "outputs": [],
   "source": [
    "bot.polling(none_stop=True, interval=0)"
   ]
  },
  {
   "cell_type": "code",
   "execution_count": null,
   "id": "1ebc6542-8a93-4d1f-9c50-6695d299c6cc",
   "metadata": {},
   "outputs": [],
   "source": []
  }
 ],
 "metadata": {
  "kernelspec": {
   "display_name": "Python 3 (ipykernel)",
   "language": "python",
   "name": "python3"
  },
  "language_info": {
   "codemirror_mode": {
    "name": "ipython",
    "version": 3
   },
   "file_extension": ".py",
   "mimetype": "text/x-python",
   "name": "python",
   "nbconvert_exporter": "python",
   "pygments_lexer": "ipython3",
   "version": "3.11.7"
  }
 },
 "nbformat": 4,
 "nbformat_minor": 5
}
